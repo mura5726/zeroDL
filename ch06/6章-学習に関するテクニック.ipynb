{
 "cells": [
  {
   "cell_type": "markdown",
   "metadata": {},
   "source": [
    "SGD : stochastic gradient descent (確率的勾配降下法）"
   ]
  },
  {
   "cell_type": "markdown",
   "metadata": {},
   "source": [
    "# 6.1.2 SGD"
   ]
  },
  {
   "cell_type": "code",
   "execution_count": 1,
   "metadata": {},
   "outputs": [],
   "source": [
    "class SGD:\n",
    "    def __init__(self, lr=0.01):\n",
    "        self.lr = lr\n",
    "        \n",
    "    def update(self, params, grads):\n",
    "        for key in params.keys():\n",
    "            params[key] -= self.lr * grads[key]"
   ]
  },
  {
   "cell_type": "markdown",
   "metadata": {},
   "source": [
    "SDGの欠点を改善する3つの手法: Momentum, AdaGrad, Adam"
   ]
  },
  {
   "cell_type": "markdown",
   "metadata": {},
   "source": [
    "# 6.1.4 Momentum"
   ]
  },
  {
   "cell_type": "code",
   "execution_count": 3,
   "metadata": {},
   "outputs": [],
   "source": [
    "class Momentum:\n",
    "    def __init__(self, lr=0.01, momentum=0.9):\n",
    "        self.lr = lr\n",
    "        self.momentum = momentum\n",
    "        self.v = None\n",
    "        \n",
    "    def update(self, params, grads):\n",
    "        if self.v is None:\n",
    "            self.v = {}\n",
    "            for key, val in params.items():\n",
    "                self.v[key] = np.zeros_like(val)\n",
    "            \n",
    "        for key in params.keys():\n",
    "            self.v[key] = self.momentum*self.v[key] - self.lr*grads[key]\n",
    "            params[key] += self.v[key]"
   ]
  },
  {
   "cell_type": "markdown",
   "metadata": {},
   "source": [
    "# 6.1.5 AdaGrad"
   ]
  },
  {
   "cell_type": "code",
   "execution_count": 4,
   "metadata": {},
   "outputs": [],
   "source": [
    "class AdaGrad:\n",
    "    def __init__(self, lr=0.01):\n",
    "        self.lr = lr\n",
    "        self.h = None\n",
    "        \n",
    "    def update(self, params, grads):\n",
    "        if self.h is None:\n",
    "            self.h = {}\n",
    "            for key, val in params.items():\n",
    "                self.h[key] = np.zeros_like(val)\n",
    "            \n",
    "        for key in params.keys():\n",
    "            self.h[key] += grads[key] * grads[key]\n",
    "            params[key] -= self.lr * grads[key] / (np.sqrt(self.h[key]) + 1e-7)"
   ]
  },
  {
   "cell_type": "markdown",
   "metadata": {},
   "source": [
    "# 6.1.6 Adam"
   ]
  },
  {
   "cell_type": "code",
   "execution_count": 5,
   "metadata": {},
   "outputs": [],
   "source": [
    "class Adam:\n",
    "\n",
    "    \"\"\"Adam (http://arxiv.org/abs/1412.6980v8)\"\"\"\n",
    "\n",
    "    def __init__(self, lr=0.001, beta1=0.9, beta2=0.999):\n",
    "        self.lr = lr\n",
    "        self.beta1 = beta1\n",
    "        self.beta2 = beta2\n",
    "        self.iter = 0\n",
    "        self.m = None\n",
    "        self.v = None\n",
    "        \n",
    "    def update(self, params, grads):\n",
    "        if self.m is None:\n",
    "            self.m, self.v = {}, {}\n",
    "            for key, val in params.items():\n",
    "                self.m[key] = np.zeros_like(val)\n",
    "                self.v[key] = np.zeros_like(val)\n",
    "        \n",
    "        self.iter += 1\n",
    "        lr_t  = self.lr * np.sqrt(1.0 - self.beta2**self.iter) / (1.0 - self.beta1**self.iter)         \n",
    "        \n",
    "        for key in params.keys():\n",
    "            #self.m[key] = self.beta1*self.m[key] + (1-self.beta1)*grads[key]\n",
    "            #self.v[key] = self.beta2*self.v[key] + (1-self.beta2)*(grads[key]**2)\n",
    "            self.m[key] += (1 - self.beta1) * (grads[key] - self.m[key])\n",
    "            self.v[key] += (1 - self.beta2) * (grads[key]**2 - self.v[key])\n",
    "            \n",
    "            params[key] -= lr_t * self.m[key] / (np.sqrt(self.v[key]) + 1e-7)\n",
    "            \n",
    "            #unbias_m += (1 - self.beta1) * (grads[key] - self.m[key]) # correct bias\n",
    "            #unbisa_b += (1 - self.beta2) * (grads[key]*grads[key] - self.v[key]) # correct bias\n",
    "            #params[key] += self.lr * unbias_m / (np.sqrt(unbisa_b) + 1e-7)"
   ]
  },
  {
   "cell_type": "markdown",
   "metadata": {},
   "source": [
    "# 6.1.8 MINISTデータセットによる更新手法の比較"
   ]
  },
  {
   "cell_type": "code",
   "execution_count": 6,
   "metadata": {},
   "outputs": [
    {
     "name": "stdout",
     "output_type": "stream",
     "text": [
      "===========iteration:0===========\n",
      "SGD:2.3428266839399017\n",
      "Momentum:2.368829768522764\n",
      "AdaGrad:2.8154431199075023\n",
      "Adam:2.0989117657390493\n",
      "===========iteration:100===========\n",
      "SGD:1.6852320941643615\n",
      "Momentum:0.46363110026785764\n",
      "AdaGrad:0.26236869927258305\n",
      "Adam:0.32629009288720917\n",
      "===========iteration:200===========\n",
      "SGD:0.9343630777297408\n",
      "Momentum:0.2689863034201475\n",
      "AdaGrad:0.1462896308515834\n",
      "Adam:0.21845592463063565\n",
      "===========iteration:300===========\n",
      "SGD:0.6507678582013962\n",
      "Momentum:0.18825002861860407\n",
      "AdaGrad:0.09054218591675182\n",
      "Adam:0.12166594653865076\n",
      "===========iteration:400===========\n",
      "SGD:0.5933063954505691\n",
      "Momentum:0.3748924031418359\n",
      "AdaGrad:0.2590303960305607\n",
      "Adam:0.3355923324821335\n",
      "===========iteration:500===========\n",
      "SGD:0.4171998063595262\n",
      "Momentum:0.09197549711685427\n",
      "AdaGrad:0.06057122197431396\n",
      "Adam:0.05639237576987054\n",
      "===========iteration:600===========\n",
      "SGD:0.4238085820102393\n",
      "Momentum:0.15222630882422117\n",
      "AdaGrad:0.05495952066503275\n",
      "Adam:0.08776210851513443\n",
      "===========iteration:700===========\n",
      "SGD:0.3531605335976717\n",
      "Momentum:0.09816850310784342\n",
      "AdaGrad:0.040680963982329954\n",
      "Adam:0.06048369978981723\n",
      "===========iteration:800===========\n",
      "SGD:0.3042524237193576\n",
      "Momentum:0.13223777059545236\n",
      "AdaGrad:0.043554371445384606\n",
      "Adam:0.08390275675532145\n",
      "===========iteration:900===========\n",
      "SGD:0.34782956572726675\n",
      "Momentum:0.1254587193665856\n",
      "AdaGrad:0.038198810538451804\n",
      "Adam:0.06860370549269311\n",
      "===========iteration:1000===========\n",
      "SGD:0.24229881979534393\n",
      "Momentum:0.10868715799729033\n",
      "AdaGrad:0.05132823533009244\n",
      "Adam:0.05550969246191001\n",
      "===========iteration:1100===========\n",
      "SGD:0.20994454283941616\n",
      "Momentum:0.04344643502030875\n",
      "AdaGrad:0.01631454203955624\n",
      "Adam:0.03141475196923309\n",
      "===========iteration:1200===========\n",
      "SGD:0.2134454272904333\n",
      "Momentum:0.06073658454932046\n",
      "AdaGrad:0.027049871253417297\n",
      "Adam:0.0487635039321099\n",
      "===========iteration:1300===========\n",
      "SGD:0.2010569103624198\n",
      "Momentum:0.04678739417191162\n",
      "AdaGrad:0.029952640690230257\n",
      "Adam:0.02770517010293893\n",
      "===========iteration:1400===========\n",
      "SGD:0.25111938918856525\n",
      "Momentum:0.08490189529630804\n",
      "AdaGrad:0.04998891806789796\n",
      "Adam:0.0940179153513072\n",
      "===========iteration:1500===========\n",
      "SGD:0.3006768764652517\n",
      "Momentum:0.06545434969631106\n",
      "AdaGrad:0.03313596475930608\n",
      "Adam:0.04597686544492523\n",
      "===========iteration:1600===========\n",
      "SGD:0.20614275276101776\n",
      "Momentum:0.043293342331348905\n",
      "AdaGrad:0.028337968758815033\n",
      "Adam:0.04820341486656511\n",
      "===========iteration:1700===========\n",
      "SGD:0.1839990299230419\n",
      "Momentum:0.07392113151573895\n",
      "AdaGrad:0.02375811712278989\n",
      "Adam:0.02749185388328178\n",
      "===========iteration:1800===========\n",
      "SGD:0.17225923847265412\n",
      "Momentum:0.05275673932041202\n",
      "AdaGrad:0.02496988169428163\n",
      "Adam:0.023521358207250844\n",
      "===========iteration:1900===========\n",
      "SGD:0.1554505306557447\n",
      "Momentum:0.0759078919530428\n",
      "AdaGrad:0.0790775972819265\n",
      "Adam:0.04734515615796958\n"
     ]
    },
    {
     "data": {
      "text/plain": [
       "<Figure size 640x480 with 1 Axes>"
      ]
     },
     "metadata": {},
     "output_type": "display_data"
    }
   ],
   "source": [
    "# coding: utf-8\n",
    "import os\n",
    "import sys\n",
    "sys.path.append(os.pardir)  # 親ディレクトリのファイルをインポートするための設定\n",
    "import matplotlib.pyplot as plt\n",
    "from dataset.mnist import load_mnist\n",
    "from common.util import smooth_curve\n",
    "from common.multi_layer_net import MultiLayerNet\n",
    "from common.optimizer import *\n",
    "\n",
    "\n",
    "# 0:MNISTデータの読み込み==========\n",
    "(x_train, t_train), (x_test, t_test) = load_mnist(normalize=True)\n",
    "\n",
    "train_size = x_train.shape[0]\n",
    "batch_size = 128\n",
    "max_iterations = 2000\n",
    "\n",
    "\n",
    "# 1:実験の設定==========\n",
    "optimizers = {}\n",
    "optimizers['SGD'] = SGD()\n",
    "optimizers['Momentum'] = Momentum()\n",
    "optimizers['AdaGrad'] = AdaGrad()\n",
    "optimizers['Adam'] = Adam()\n",
    "#optimizers['RMSprop'] = RMSprop()\n",
    "\n",
    "networks = {}\n",
    "train_loss = {}\n",
    "for key in optimizers.keys():\n",
    "    networks[key] = MultiLayerNet(\n",
    "        input_size=784, hidden_size_list=[100, 100, 100, 100],\n",
    "        output_size=10)\n",
    "    train_loss[key] = []    \n",
    "\n",
    "\n",
    "# 2:訓練の開始==========\n",
    "for i in range(max_iterations):\n",
    "    batch_mask = np.random.choice(train_size, batch_size)\n",
    "    x_batch = x_train[batch_mask]\n",
    "    t_batch = t_train[batch_mask]\n",
    "    \n",
    "    for key in optimizers.keys():\n",
    "        grads = networks[key].gradient(x_batch, t_batch)\n",
    "        optimizers[key].update(networks[key].params, grads)\n",
    "    \n",
    "        loss = networks[key].loss(x_batch, t_batch)\n",
    "        train_loss[key].append(loss)\n",
    "    \n",
    "    if i % 100 == 0:\n",
    "        print( \"===========\" + \"iteration:\" + str(i) + \"===========\")\n",
    "        for key in optimizers.keys():\n",
    "            loss = networks[key].loss(x_batch, t_batch)\n",
    "            print(key + \":\" + str(loss))\n",
    "\n",
    "\n"
   ]
  },
  {
   "cell_type": "code",
   "execution_count": 8,
   "metadata": {},
   "outputs": [
    {
     "data": {
      "image/png": "[encoded data removed]",
      "text/plain": [
       "<Figure size 432x288 with 1 Axes>"
      ]
     },
     "metadata": {},
     "output_type": "display_data"
    }
   ],
   "source": [
    "# 3.グラフの描画==========\n",
    "markers = {\"SGD\": \"o\", \"Momentum\": \"x\", \"AdaGrad\": \"s\", \"Adam\": \"D\"}\n",
    "x = np.arange(max_iterations)\n",
    "for key in optimizers.keys():\n",
    "    plt.plot(x, smooth_curve(train_loss[key]), marker=markers[key], markevery=100, label=key)\n",
    "plt.xlabel(\"iterations\")\n",
    "plt.ylabel(\"loss\")\n",
    "plt.ylim(0, 3)\n",
    "plt.legend()\n",
    "plt.show()"
   ]
  },
  {
   "cell_type": "markdown",
   "metadata": {},
   "source": [
    "# 6.2.2 隠れ層のアクティべーション分布"
   ]
  },
  {
   "cell_type": "code",
   "execution_count": 9,
   "metadata": {},
   "outputs": [
    {
     "data": {
      "image/png": "[encoded data removed]",
      "text/plain": [
       "<Figure size 432x288 with 5 Axes>"
      ]
     },
     "metadata": {},
     "output_type": "display_data"
    }
   ],
   "source": [
    "# coding: utf-8\n",
    "import numpy as np\n",
    "import matplotlib.pyplot as plt\n",
    "\n",
    "\n",
    "def sigmoid(x):\n",
    "    return 1 / (1 + np.exp(-x))\n",
    "\n",
    "\n",
    "def ReLU(x):\n",
    "    return np.maximum(0, x)\n",
    "\n",
    "\n",
    "def tanh(x):\n",
    "    return np.tanh(x)\n",
    "    \n",
    "input_data = np.random.randn(1000, 100)  # 1000個のデータ\n",
    "node_num = 100  # 各隠れ層のノード（ニューロン）の数\n",
    "hidden_layer_size = 5  # 隠れ層が5層\n",
    "activations = {}  # ここにアクティベーションの結果を格納する\n",
    "\n",
    "x = input_data\n",
    "\n",
    "for i in range(hidden_layer_size):\n",
    "    if i != 0:\n",
    "        x = activations[i-1]\n",
    "\n",
    "    # 初期値の値をいろいろ変えて実験しよう！\n",
    "    w = np.random.randn(node_num, node_num) * 1\n",
    "    # w = np.random.randn(node_num, node_num) * 0.01\n",
    "    # w = np.random.randn(node_num, node_num) * np.sqrt(1.0 / node_num)\n",
    "    # w = np.random.randn(node_num, node_num) * np.sqrt(2.0 / node_num)\n",
    "\n",
    "\n",
    "    a = np.dot(x, w)\n",
    "\n",
    "\n",
    "    # 活性化関数の種類も変えて実験しよう！\n",
    "    z = sigmoid(a)\n",
    "    # z = ReLU(a)\n",
    "    # z = tanh(a)\n",
    "\n",
    "    activations[i] = z\n",
    "\n",
    "# ヒストグラムを描画\n",
    "for i, a in activations.items():\n",
    "    plt.subplot(1, len(activations), i+1)\n",
    "    plt.title(str(i+1) + \"-layer\")\n",
    "    if i != 0: plt.yticks([], [])\n",
    "    # plt.xlim(0.1, 1)\n",
    "    # plt.ylim(0, 7000)\n",
    "    plt.hist(a.flatten(), 30, range=(0,1))\n",
    "plt.show()"
   ]
  },
  {
   "cell_type": "code",
   "execution_count": 12,
   "metadata": {
    "scrolled": true
   },
   "outputs": [
    {
     "data": {
      "image/png": "[encoded data removed]",
      "text/plain": [
       "<Figure size 432x288 with 5 Axes>"
      ]
     },
     "metadata": {},
     "output_type": "display_data"
    }
   ],
   "source": [
    "# coding: utf-8\n",
    "import numpy as np\n",
    "import matplotlib.pyplot as plt\n",
    "\n",
    "\n",
    "def sigmoid(x):\n",
    "    return 1 / (1 + np.exp(-x))\n",
    "\n",
    "\n",
    "def ReLU(x):\n",
    "    return np.maximum(0, x)\n",
    "\n",
    "\n",
    "def tanh(x):\n",
    "    return np.tanh(x)\n",
    "    \n",
    "input_data = np.random.randn(1000, 100)  # 1000個のデータ\n",
    "node_num = 100  # 各隠れ層のノード（ニューロン）の数\n",
    "hidden_layer_size = 5  # 隠れ層が5層\n",
    "activations = {}  # ここにアクティベーションの結果を格納する\n",
    "\n",
    "x = input_data\n",
    "\n",
    "for i in range(hidden_layer_size):\n",
    "    if i != 0:\n",
    "        x = activations[i-1]\n",
    "\n",
    "    # 初期値の値をいろいろ変えて実験しよう！\n",
    "#     w = np.random.randn(node_num, node_num) * 1\n",
    "#     w = np.random.randn(node_num, node_num) * 0.01\n",
    "#     w = np.random.randn(node_num, node_num) * np.sqrt(1.0 / node_num)\n",
    "    w = np.random.randn(node_num, node_num) * np.sqrt(2.0 / node_num)\n",
    "\n",
    "\n",
    "    a = np.dot(x, w)\n",
    "\n",
    "\n",
    "    # 活性化関数の種類も変えて実験しよう！\n",
    "    z = sigmoid(a)\n",
    "    # z = ReLU(a)\n",
    "    # z = tanh(a)\n",
    "\n",
    "    activations[i] = z\n",
    "\n",
    "# ヒストグラムを描画\n",
    "for i, a in activations.items():\n",
    "    plt.subplot(1, len(activations), i+1)\n",
    "    plt.title(str(i+1) + \"-layer\")\n",
    "    if i != 0: plt.yticks([], [])\n",
    "    # plt.xlim(0.1, 1)\n",
    "    # plt.ylim(0, 7000)\n",
    "    plt.hist(a.flatten(), 30, range=(0,1))\n",
    "plt.show()"
   ]
  },
  {
   "cell_type": "code",
   "execution_count": 13,
   "metadata": {
    "scrolled": true
   },
   "outputs": [
    {
     "data": {
      "text/plain": [
       "array([[-0.08483965,  0.10771089,  0.17057097, ..., -0.02662492,\n",
       "        -0.08493634,  0.07094927],\n",
       "       [-0.14980867,  0.2249793 ,  0.15522326, ...,  0.01077817,\n",
       "         0.21139633,  0.11740865],\n",
       "       [-0.0728353 ,  0.07217128, -0.15268451, ..., -0.17909849,\n",
       "         0.1353933 , -0.14828442],\n",
       "       ...,\n",
       "       [-0.09462514, -0.18075056,  0.02512034, ..., -0.01049004,\n",
       "        -0.21240569,  0.19140363],\n",
       "       [ 0.06809312, -0.26305038, -0.02629252, ..., -0.10742825,\n",
       "        -0.1142101 , -0.0093187 ],\n",
       "       [-0.04385004,  0.03459371,  0.02716888, ...,  0.02638485,\n",
       "         0.20578333,  0.19425593]])"
      ]
     },
     "execution_count": 13,
     "metadata": {},
     "output_type": "execute_result"
    }
   ],
   "source": [
    "np.random.randn(node_num, node_num) * np.sqrt(2.0 / node_num)"
   ]
  },
  {
   "cell_type": "code",
   "execution_count": 14,
   "metadata": {},
   "outputs": [
    {
     "name": "stdout",
     "output_type": "stream",
     "text": [
      "===========iteration:0===========\n",
      "std=0.01:2.3024980058913647\n",
      "Xavier:2.3144837985205524\n",
      "He:2.470863787550633\n",
      "===========iteration:100===========\n",
      "std=0.01:2.3025269172894274\n",
      "Xavier:2.241925132729129\n",
      "He:1.5528636845424522\n",
      "===========iteration:200===========\n",
      "std=0.01:2.3003173417147225\n",
      "Xavier:2.091167205481829\n",
      "He:0.7279373175458554\n",
      "===========iteration:300===========\n",
      "std=0.01:2.2997074391147123\n",
      "Xavier:1.7964458421274956\n",
      "He:0.6115013401261302\n",
      "===========iteration:400===========\n",
      "std=0.01:2.29889062297651\n",
      "Xavier:1.3424032360957507\n",
      "He:0.3797493025939572\n",
      "===========iteration:500===========\n",
      "std=0.01:2.3049307810178417\n",
      "Xavier:0.9737516848879536\n",
      "He:0.45465130328973336\n",
      "===========iteration:600===========\n",
      "std=0.01:2.3013510773653283\n",
      "Xavier:0.6158687758282666\n",
      "He:0.23861863374729028\n",
      "===========iteration:700===========\n",
      "std=0.01:2.3053550858578884\n",
      "Xavier:0.6020063818426851\n",
      "He:0.3259394710534428\n",
      "===========iteration:800===========\n",
      "std=0.01:2.3055866153091333\n",
      "Xavier:0.545752855483922\n",
      "He:0.3069136864971325\n",
      "===========iteration:900===========\n",
      "std=0.01:2.3042315039678893\n",
      "Xavier:0.41707630409892027\n",
      "He:0.24116565858130257\n",
      "===========iteration:1000===========\n",
      "std=0.01:2.3035528620249153\n",
      "Xavier:0.4632388335652179\n",
      "He:0.32871210817758045\n",
      "===========iteration:1100===========\n",
      "std=0.01:2.3048978019655295\n",
      "Xavier:0.4457891374847904\n",
      "He:0.3009354210401495\n",
      "===========iteration:1200===========\n",
      "std=0.01:2.2938017868100946\n",
      "Xavier:0.3518229493545083\n",
      "He:0.19907529031108995\n",
      "===========iteration:1300===========\n",
      "std=0.01:2.304954107492578\n",
      "Xavier:0.4753115542439852\n",
      "He:0.3456072886844365\n",
      "===========iteration:1400===========\n",
      "std=0.01:2.301319799770588\n",
      "Xavier:0.21617764957890265\n",
      "He:0.12697111036102637\n",
      "===========iteration:1500===========\n",
      "std=0.01:2.3009796486247596\n",
      "Xavier:0.2770044364123718\n",
      "He:0.1704188435606129\n",
      "===========iteration:1600===========\n",
      "std=0.01:2.3048973656387517\n",
      "Xavier:0.3809807403832074\n",
      "He:0.26413167117502256\n",
      "===========iteration:1700===========\n",
      "std=0.01:2.301348360781107\n",
      "Xavier:0.26801101269253397\n",
      "He:0.21780025338594006\n",
      "===========iteration:1800===========\n",
      "std=0.01:2.304029804936614\n",
      "Xavier:0.4072085837689018\n",
      "He:0.23815755186870716\n",
      "===========iteration:1900===========\n",
      "std=0.01:2.2972570117793563\n",
      "Xavier:0.26606110967466967\n",
      "He:0.19197633312981932\n"
     ]
    }
   ],
   "source": [
    "# coding: utf-8\n",
    "import os\n",
    "import sys\n",
    "\n",
    "sys.path.append(os.pardir)  # 親ディレクトリのファイルをインポートするための設定\n",
    "import numpy as np\n",
    "import matplotlib.pyplot as plt\n",
    "from dataset.mnist import load_mnist\n",
    "from common.util import smooth_curve\n",
    "from common.multi_layer_net import MultiLayerNet\n",
    "from common.optimizer import SGD\n",
    "\n",
    "\n",
    "# 0:MNISTデータの読み込み==========\n",
    "(x_train, t_train), (x_test, t_test) = load_mnist(normalize=True)\n",
    "\n",
    "train_size = x_train.shape[0]\n",
    "batch_size = 128\n",
    "max_iterations = 2000\n",
    "\n",
    "\n",
    "# 1:実験の設定==========\n",
    "weight_init_types = {'std=0.01': 0.01, 'Xavier': 'sigmoid', 'He': 'relu'}\n",
    "optimizer = SGD(lr=0.01)\n",
    "\n",
    "networks = {}\n",
    "train_loss = {}\n",
    "for key, weight_type in weight_init_types.items():\n",
    "    networks[key] = MultiLayerNet(input_size=784, hidden_size_list=[100, 100, 100, 100],\n",
    "                                  output_size=10, weight_init_std=weight_type)\n",
    "    train_loss[key] = []\n",
    "\n",
    "\n",
    "# 2:訓練の開始==========\n",
    "for i in range(max_iterations):\n",
    "    batch_mask = np.random.choice(train_size, batch_size)\n",
    "    x_batch = x_train[batch_mask]\n",
    "    t_batch = t_train[batch_mask]\n",
    "    \n",
    "    for key in weight_init_types.keys():\n",
    "        grads = networks[key].gradient(x_batch, t_batch)\n",
    "        optimizer.update(networks[key].params, grads)\n",
    "    \n",
    "        loss = networks[key].loss(x_batch, t_batch)\n",
    "        train_loss[key].append(loss)\n",
    "    \n",
    "    if i % 100 == 0:\n",
    "        print(\"===========\" + \"iteration:\" + str(i) + \"===========\")\n",
    "        for key in weight_init_types.keys():\n",
    "            loss = networks[key].loss(x_batch, t_batch)\n",
    "            print(key + \":\" + str(loss))"
   ]
  },
  {
   "cell_type": "code",
   "execution_count": 15,
   "metadata": {},
   "outputs": [
    {
     "data": {
      "image/png": "[encoded data removed]",
      "text/plain": [
       "<Figure size 432x288 with 1 Axes>"
      ]
     },
     "metadata": {},
     "output_type": "display_data"
    }
   ],
   "source": [
    "# 3.グラフの描画==========\n",
    "markers = {'std=0.01': 'o', 'Xavier': 's', 'He': 'D'}\n",
    "x = np.arange(max_iterations)\n",
    "for key in weight_init_types.keys():\n",
    "    plt.plot(x, smooth_curve(train_loss[key]), marker=markers[key], markevery=100, label=key)\n",
    "plt.xlabel(\"iterations\")\n",
    "plt.ylabel(\"loss\")\n",
    "plt.ylim(0, 2.5)\n",
    "plt.legend()\n",
    "plt.show()"
   ]
  },
  {
   "cell_type": "code",
   "execution_count": 16,
   "metadata": {},
   "outputs": [
    {
     "name": "stdout",
     "output_type": "stream",
     "text": [
      "============== 1/16 ==============\n",
      "epoch:0 | 0.1 - 0.137\n"
     ]
    },
    {
     "name": "stderr",
     "output_type": "stream",
     "text": [
      "..\\common\\layers.py:12: RuntimeWarning: invalid value encountered in less_equal\n",
      "  self.mask = (x <= 0)\n",
      "..\\common\\multi_layer_net_extend.py:101: RuntimeWarning: overflow encountered in square\n",
      "  weight_decay += 0.5 * self.weight_decay_lambda * np.sum(W**2)\n",
      "..\\common\\multi_layer_net_extend.py:101: RuntimeWarning: invalid value encountered in double_scalars\n",
      "  weight_decay += 0.5 * self.weight_decay_lambda * np.sum(W**2)\n"
     ]
    },
    {
     "name": "stdout",
     "output_type": "stream",
     "text": [
      "epoch:1 | 0.097 - 0.124\n",
      "epoch:2 | 0.097 - 0.128\n",
      "epoch:3 | 0.097 - 0.139\n",
      "epoch:4 | 0.097 - 0.159\n",
      "epoch:5 | 0.097 - 0.172\n",
      "epoch:6 | 0.097 - 0.182\n",
      "epoch:7 | 0.097 - 0.199\n",
      "epoch:8 | 0.097 - 0.211\n",
      "epoch:9 | 0.097 - 0.229\n",
      "epoch:10 | 0.097 - 0.244\n",
      "epoch:11 | 0.097 - 0.264\n",
      "epoch:12 | 0.097 - 0.287\n",
      "epoch:13 | 0.097 - 0.304\n",
      "epoch:14 | 0.097 - 0.313\n",
      "epoch:15 | 0.097 - 0.325\n",
      "epoch:16 | 0.097 - 0.328\n",
      "epoch:17 | 0.097 - 0.342\n",
      "epoch:18 | 0.097 - 0.357\n"
     ]
    },
    {
     "name": "stderr",
     "output_type": "stream",
     "text": [
      "No handles with labels found to put in legend.\n"
     ]
    },
    {
     "name": "stdout",
     "output_type": "stream",
     "text": [
      "epoch:19 | 0.097 - 0.374\n",
      "============== 2/16 ==============\n",
      "epoch:0 | 0.121 - 0.114\n",
      "epoch:1 | 0.097 - 0.123\n",
      "epoch:2 | 0.097 - 0.124\n",
      "epoch:3 | 0.097 - 0.138\n",
      "epoch:4 | 0.097 - 0.16\n",
      "epoch:5 | 0.097 - 0.19\n",
      "epoch:6 | 0.097 - 0.224\n",
      "epoch:7 | 0.097 - 0.247\n",
      "epoch:8 | 0.097 - 0.274\n",
      "epoch:9 | 0.097 - 0.297\n",
      "epoch:10 | 0.097 - 0.318\n",
      "epoch:11 | 0.097 - 0.348\n",
      "epoch:12 | 0.097 - 0.37\n",
      "epoch:13 | 0.097 - 0.386\n",
      "epoch:14 | 0.097 - 0.398\n",
      "epoch:15 | 0.097 - 0.42\n",
      "epoch:16 | 0.097 - 0.441\n",
      "epoch:17 | 0.097 - 0.461\n",
      "epoch:18 | 0.097 - 0.468\n"
     ]
    },
    {
     "name": "stderr",
     "output_type": "stream",
     "text": [
      "No handles with labels found to put in legend.\n"
     ]
    },
    {
     "name": "stdout",
     "output_type": "stream",
     "text": [
      "epoch:19 | 0.097 - 0.476\n",
      "============== 3/16 ==============\n",
      "epoch:0 | 0.129 - 0.077\n",
      "epoch:1 | 0.393 - 0.088\n",
      "epoch:2 | 0.528 - 0.12\n",
      "epoch:3 | 0.619 - 0.166\n",
      "epoch:4 | 0.7 - 0.195\n",
      "epoch:5 | 0.762 - 0.24\n",
      "epoch:6 | 0.793 - 0.277\n",
      "epoch:7 | 0.829 - 0.304\n",
      "epoch:8 | 0.869 - 0.344\n",
      "epoch:9 | 0.892 - 0.381\n",
      "epoch:10 | 0.91 - 0.405\n",
      "epoch:11 | 0.934 - 0.425\n",
      "epoch:12 | 0.94 - 0.458\n",
      "epoch:13 | 0.953 - 0.482\n",
      "epoch:14 | 0.966 - 0.501\n",
      "epoch:15 | 0.971 - 0.523\n",
      "epoch:16 | 0.976 - 0.554\n",
      "epoch:17 | 0.981 - 0.575\n",
      "epoch:18 | 0.983 - 0.597\n",
      "epoch:19 | 0.985 - 0.611\n"
     ]
    },
    {
     "name": "stderr",
     "output_type": "stream",
     "text": [
      "No handles with labels found to put in legend.\n"
     ]
    },
    {
     "name": "stdout",
     "output_type": "stream",
     "text": [
      "============== 4/16 ==============\n",
      "epoch:0 | 0.122 - 0.147\n",
      "epoch:1 | 0.24 - 0.158\n",
      "epoch:2 | 0.373 - 0.202\n",
      "epoch:3 | 0.474 - 0.257\n",
      "epoch:4 | 0.563 - 0.32\n",
      "epoch:5 | 0.612 - 0.363\n",
      "epoch:6 | 0.658 - 0.413\n",
      "epoch:7 | 0.688 - 0.472\n",
      "epoch:8 | 0.688 - 0.533\n",
      "epoch:9 | 0.733 - 0.57\n",
      "epoch:10 | 0.753 - 0.604\n",
      "epoch:11 | 0.766 - 0.635\n",
      "epoch:12 | 0.781 - 0.658\n",
      "epoch:13 | 0.791 - 0.685\n",
      "epoch:14 | 0.804 - 0.708\n",
      "epoch:15 | 0.815 - 0.718\n",
      "epoch:16 | 0.832 - 0.738\n",
      "epoch:17 | 0.829 - 0.762\n",
      "epoch:18 | 0.835 - 0.775\n"
     ]
    },
    {
     "name": "stderr",
     "output_type": "stream",
     "text": [
      "No handles with labels found to put in legend.\n"
     ]
    },
    {
     "name": "stdout",
     "output_type": "stream",
     "text": [
      "epoch:19 | 0.856 - 0.787\n",
      "============== 5/16 ==============\n",
      "epoch:0 | 0.105 - 0.093\n",
      "epoch:1 | 0.106 - 0.141\n",
      "epoch:2 | 0.112 - 0.298\n",
      "epoch:3 | 0.115 - 0.421\n",
      "epoch:4 | 0.116 - 0.511\n",
      "epoch:5 | 0.116 - 0.57\n",
      "epoch:6 | 0.128 - 0.639\n",
      "epoch:7 | 0.141 - 0.682\n",
      "epoch:8 | 0.152 - 0.727\n",
      "epoch:9 | 0.156 - 0.754\n",
      "epoch:10 | 0.17 - 0.785\n",
      "epoch:11 | 0.178 - 0.8\n",
      "epoch:12 | 0.179 - 0.819\n",
      "epoch:13 | 0.179 - 0.833\n",
      "epoch:14 | 0.19 - 0.842\n",
      "epoch:15 | 0.19 - 0.855\n",
      "epoch:16 | 0.199 - 0.866\n",
      "epoch:17 | 0.196 - 0.878\n",
      "epoch:18 | 0.213 - 0.88\n"
     ]
    },
    {
     "name": "stderr",
     "output_type": "stream",
     "text": [
      "No handles with labels found to put in legend.\n"
     ]
    },
    {
     "name": "stdout",
     "output_type": "stream",
     "text": [
      "epoch:19 | 0.215 - 0.891\n",
      "============== 6/16 ==============\n",
      "epoch:0 | 0.139 - 0.091\n",
      "epoch:1 | 0.142 - 0.211\n",
      "epoch:2 | 0.132 - 0.46\n",
      "epoch:3 | 0.126 - 0.585\n",
      "epoch:4 | 0.126 - 0.651\n",
      "epoch:5 | 0.117 - 0.711\n",
      "epoch:6 | 0.126 - 0.747\n",
      "epoch:7 | 0.116 - 0.775\n",
      "epoch:8 | 0.133 - 0.807\n",
      "epoch:9 | 0.121 - 0.842\n",
      "epoch:10 | 0.156 - 0.854\n",
      "epoch:11 | 0.134 - 0.864\n",
      "epoch:12 | 0.117 - 0.882\n",
      "epoch:13 | 0.117 - 0.893\n",
      "epoch:14 | 0.117 - 0.91\n",
      "epoch:15 | 0.117 - 0.918\n",
      "epoch:16 | 0.117 - 0.928\n",
      "epoch:17 | 0.117 - 0.934\n",
      "epoch:18 | 0.117 - 0.94\n",
      "epoch:19 | 0.117 - 0.951"
     ]
    },
    {
     "name": "stderr",
     "output_type": "stream",
     "text": [
      "No handles with labels found to put in legend.\n"
     ]
    },
    {
     "name": "stdout",
     "output_type": "stream",
     "text": [
      "\n",
      "============== 7/16 ==============\n",
      "epoch:0 | 0.105 - 0.12\n",
      "epoch:1 | 0.117 - 0.36\n",
      "epoch:2 | 0.117 - 0.619\n",
      "epoch:3 | 0.117 - 0.698\n",
      "epoch:4 | 0.117 - 0.748\n",
      "epoch:5 | 0.117 - 0.778\n",
      "epoch:6 | 0.116 - 0.809\n",
      "epoch:7 | 0.117 - 0.839\n",
      "epoch:8 | 0.117 - 0.87\n",
      "epoch:9 | 0.117 - 0.9\n",
      "epoch:10 | 0.117 - 0.915\n",
      "epoch:11 | 0.117 - 0.943\n",
      "epoch:12 | 0.117 - 0.96\n",
      "epoch:13 | 0.117 - 0.964\n",
      "epoch:14 | 0.117 - 0.969\n",
      "epoch:15 | 0.117 - 0.977\n",
      "epoch:16 | 0.117 - 0.983\n",
      "epoch:17 | 0.117 - 0.985\n",
      "epoch:18 | 0.117 - 0.988\n",
      "epoch:19 | 0.117 - 0.991\n"
     ]
    },
    {
     "name": "stderr",
     "output_type": "stream",
     "text": [
      "No handles with labels found to put in legend.\n"
     ]
    },
    {
     "name": "stdout",
     "output_type": "stream",
     "text": [
      "============== 8/16 ==============\n",
      "epoch:0 | 0.116 - 0.102\n",
      "epoch:1 | 0.117 - 0.327\n",
      "epoch:2 | 0.117 - 0.591\n",
      "epoch:3 | 0.117 - 0.73\n",
      "epoch:4 | 0.117 - 0.787\n",
      "epoch:5 | 0.117 - 0.821\n",
      "epoch:6 | 0.117 - 0.865\n",
      "epoch:7 | 0.117 - 0.885\n",
      "epoch:8 | 0.117 - 0.925\n",
      "epoch:9 | 0.117 - 0.952\n",
      "epoch:10 | 0.117 - 0.964\n",
      "epoch:11 | 0.117 - 0.983\n",
      "epoch:12 | 0.117 - 0.983\n",
      "epoch:13 | 0.117 - 0.987\n",
      "epoch:14 | 0.117 - 0.989\n",
      "epoch:15 | 0.117 - 0.99\n",
      "epoch:16 | 0.117 - 0.993\n",
      "epoch:17 | 0.117 - 0.995\n",
      "epoch:18 | 0.117 - 0.996\n",
      "epoch:19 | 0.117 - 0.996\n"
     ]
    },
    {
     "name": "stderr",
     "output_type": "stream",
     "text": [
      "No handles with labels found to put in legend.\n"
     ]
    },
    {
     "name": "stdout",
     "output_type": "stream",
     "text": [
      "============== 9/16 ==============\n",
      "epoch:0 | 0.117 - 0.058\n",
      "epoch:1 | 0.116 - 0.462\n",
      "epoch:2 | 0.116 - 0.686\n",
      "epoch:3 | 0.116 - 0.742\n",
      "epoch:4 | 0.116 - 0.82\n",
      "epoch:5 | 0.116 - 0.896\n",
      "epoch:6 | 0.116 - 0.949\n",
      "epoch:7 | 0.116 - 0.976\n",
      "epoch:8 | 0.116 - 0.989\n",
      "epoch:9 | 0.116 - 0.993\n",
      "epoch:10 | 0.116 - 0.997\n",
      "epoch:11 | 0.116 - 0.998\n",
      "epoch:12 | 0.116 - 0.997\n",
      "epoch:13 | 0.116 - 0.998\n",
      "epoch:14 | 0.116 - 0.999\n",
      "epoch:15 | 0.116 - 0.999\n",
      "epoch:16 | 0.116 - 1.0\n",
      "epoch:17 | 0.116 - 1.0\n"
     ]
    },
    {
     "name": "stderr",
     "output_type": "stream",
     "text": [
      "No handles with labels found to put in legend.\n"
     ]
    },
    {
     "name": "stdout",
     "output_type": "stream",
     "text": [
      "epoch:18 | 0.116 - 1.0\n",
      "epoch:19 | 0.116 - 1.0\n",
      "============== 10/16 ==============\n",
      "epoch:0 | 0.117 - 0.143\n",
      "epoch:1 | 0.116 - 0.671\n",
      "epoch:2 | 0.116 - 0.839\n",
      "epoch:3 | 0.116 - 0.903\n",
      "epoch:4 | 0.116 - 0.921\n",
      "epoch:5 | 0.116 - 0.964\n",
      "epoch:6 | 0.116 - 0.976\n",
      "epoch:7 | 0.116 - 0.969\n",
      "epoch:8 | 0.117 - 0.979\n",
      "epoch:9 | 0.117 - 0.988\n",
      "epoch:10 | 0.117 - 0.992\n",
      "epoch:11 | 0.117 - 0.957\n",
      "epoch:12 | 0.117 - 0.996\n",
      "epoch:13 | 0.117 - 0.999\n",
      "epoch:14 | 0.117 - 0.999\n",
      "epoch:15 | 0.117 - 0.999\n",
      "epoch:16 | 0.117 - 0.999\n",
      "epoch:17 | 0.117 - 1.0\n",
      "epoch:18 | 0.117 - 1.0\n",
      "epoch:19 | 0.117 - 0.981\n"
     ]
    },
    {
     "name": "stderr",
     "output_type": "stream",
     "text": [
      "No handles with labels found to put in legend.\n"
     ]
    },
    {
     "name": "stdout",
     "output_type": "stream",
     "text": [
      "============== 11/16 ==============\n",
      "epoch:0 | 0.116 - 0.127\n",
      "epoch:1 | 0.116 - 0.704\n",
      "epoch:2 | 0.117 - 0.714\n",
      "epoch:3 | 0.117 - 0.791\n",
      "epoch:4 | 0.116 - 0.853\n",
      "epoch:5 | 0.116 - 0.835\n",
      "epoch:6 | 0.116 - 0.884\n",
      "epoch:7 | 0.116 - 0.753\n",
      "epoch:8 | 0.116 - 0.887\n",
      "epoch:9 | 0.116 - 0.885\n",
      "epoch:10 | 0.116 - 0.892\n",
      "epoch:11 | 0.116 - 0.901\n",
      "epoch:12 | 0.116 - 0.983\n",
      "epoch:13 | 0.116 - 0.99\n",
      "epoch:14 | 0.116 - 0.991\n",
      "epoch:15 | 0.117 - 0.991\n",
      "epoch:16 | 0.117 - 0.991\n",
      "epoch:17 | 0.117 - 0.99\n",
      "epoch:18 | 0.116 - 0.991\n"
     ]
    },
    {
     "name": "stderr",
     "output_type": "stream",
     "text": [
      "No handles with labels found to put in legend.\n"
     ]
    },
    {
     "name": "stdout",
     "output_type": "stream",
     "text": [
      "epoch:19 | 0.116 - 0.987\n",
      "============== 12/16 ==============\n",
      "epoch:0 | 0.093 - 0.133\n",
      "epoch:1 | 0.116 - 0.559\n",
      "epoch:2 | 0.116 - 0.622\n",
      "epoch:3 | 0.117 - 0.631\n",
      "epoch:4 | 0.117 - 0.656\n",
      "epoch:5 | 0.117 - 0.655\n",
      "epoch:6 | 0.117 - 0.676\n",
      "epoch:7 | 0.117 - 0.604\n",
      "epoch:8 | 0.117 - 0.683\n",
      "epoch:9 | 0.117 - 0.686\n",
      "epoch:10 | 0.117 - 0.683\n",
      "epoch:11 | 0.117 - 0.691\n",
      "epoch:12 | 0.117 - 0.691\n",
      "epoch:13 | 0.117 - 0.693\n",
      "epoch:14 | 0.117 - 0.742\n",
      "epoch:15 | 0.117 - 0.696\n",
      "epoch:16 | 0.117 - 0.696\n",
      "epoch:17 | 0.117 - 0.706\n",
      "epoch:18 | 0.117 - 0.703\n"
     ]
    },
    {
     "name": "stderr",
     "output_type": "stream",
     "text": [
      "No handles with labels found to put in legend.\n"
     ]
    },
    {
     "name": "stdout",
     "output_type": "stream",
     "text": [
      "epoch:19 | 0.117 - 0.703\n",
      "============== 13/16 ==============\n",
      "epoch:0 | 0.094 - 0.108\n",
      "epoch:1 | 0.117 - 0.441\n",
      "epoch:2 | 0.117 - 0.477\n",
      "epoch:3 | 0.117 - 0.533\n",
      "epoch:4 | 0.117 - 0.608\n",
      "epoch:5 | 0.117 - 0.615\n",
      "epoch:6 | 0.117 - 0.587\n",
      "epoch:7 | 0.117 - 0.615\n",
      "epoch:8 | 0.117 - 0.617\n",
      "epoch:9 | 0.117 - 0.62\n",
      "epoch:10 | 0.117 - 0.623\n",
      "epoch:11 | 0.117 - 0.629\n",
      "epoch:12 | 0.117 - 0.624\n",
      "epoch:13 | 0.117 - 0.631\n",
      "epoch:14 | 0.117 - 0.699\n",
      "epoch:15 | 0.117 - 0.708\n",
      "epoch:16 | 0.117 - 0.709\n",
      "epoch:17 | 0.117 - 0.693\n",
      "epoch:18 | 0.117 - 0.716\n",
      "epoch:19 | 0.117 - 0.703\n"
     ]
    },
    {
     "name": "stderr",
     "output_type": "stream",
     "text": [
      "No handles with labels found to put in legend.\n"
     ]
    },
    {
     "name": "stdout",
     "output_type": "stream",
     "text": [
      "============== 14/16 ==============\n",
      "epoch:0 | 0.117 - 0.116\n",
      "epoch:1 | 0.116 - 0.387\n",
      "epoch:2 | 0.116 - 0.486\n",
      "epoch:3 | 0.116 - 0.426\n",
      "epoch:4 | 0.116 - 0.517\n",
      "epoch:5 | 0.116 - 0.544\n",
      "epoch:6 | 0.116 - 0.57\n",
      "epoch:7 | 0.117 - 0.558\n",
      "epoch:8 | 0.117 - 0.578\n",
      "epoch:9 | 0.117 - 0.588\n",
      "epoch:10 | 0.117 - 0.594\n",
      "epoch:11 | 0.117 - 0.599\n",
      "epoch:12 | 0.117 - 0.608\n",
      "epoch:13 | 0.117 - 0.603\n",
      "epoch:14 | 0.117 - 0.606\n",
      "epoch:15 | 0.117 - 0.608\n",
      "epoch:16 | 0.117 - 0.601\n",
      "epoch:17 | 0.117 - 0.606\n",
      "epoch:18 | 0.117 - 0.609\n"
     ]
    },
    {
     "name": "stderr",
     "output_type": "stream",
     "text": [
      "No handles with labels found to put in legend.\n"
     ]
    },
    {
     "name": "stdout",
     "output_type": "stream",
     "text": [
      "epoch:19 | 0.116 - 0.613\n",
      "============== 15/16 ==============\n",
      "epoch:0 | 0.117 - 0.118\n",
      "epoch:1 | 0.116 - 0.259\n",
      "epoch:2 | 0.116 - 0.327\n",
      "epoch:3 | 0.116 - 0.432\n",
      "epoch:4 | 0.116 - 0.469\n",
      "epoch:5 | 0.116 - 0.495\n",
      "epoch:6 | 0.116 - 0.489\n",
      "epoch:7 | 0.116 - 0.475\n",
      "epoch:8 | 0.116 - 0.487\n",
      "epoch:9 | 0.116 - 0.51\n",
      "epoch:10 | 0.116 - 0.511\n",
      "epoch:11 | 0.116 - 0.52\n",
      "epoch:12 | 0.116 - 0.505\n",
      "epoch:13 | 0.116 - 0.507\n",
      "epoch:14 | 0.116 - 0.494\n",
      "epoch:15 | 0.116 - 0.519\n",
      "epoch:16 | 0.116 - 0.612\n",
      "epoch:17 | 0.116 - 0.617\n"
     ]
    },
    {
     "name": "stderr",
     "output_type": "stream",
     "text": [
      "No handles with labels found to put in legend.\n"
     ]
    },
    {
     "name": "stdout",
     "output_type": "stream",
     "text": [
      "epoch:18 | 0.116 - 0.593\n",
      "epoch:19 | 0.116 - 0.617\n",
      "============== 16/16 ==============\n",
      "epoch:0 | 0.105 - 0.106\n",
      "epoch:1 | 0.116 - 0.247\n",
      "epoch:2 | 0.116 - 0.305\n",
      "epoch:3 | 0.116 - 0.308\n",
      "epoch:4 | 0.116 - 0.322\n",
      "epoch:5 | 0.116 - 0.334\n",
      "epoch:6 | 0.116 - 0.32\n",
      "epoch:7 | 0.116 - 0.413\n",
      "epoch:8 | 0.116 - 0.401\n",
      "epoch:9 | 0.116 - 0.415\n",
      "epoch:10 | 0.116 - 0.404\n",
      "epoch:11 | 0.116 - 0.421\n",
      "epoch:12 | 0.116 - 0.408\n",
      "epoch:13 | 0.116 - 0.424\n",
      "epoch:14 | 0.116 - 0.42\n",
      "epoch:15 | 0.116 - 0.422\n",
      "epoch:16 | 0.116 - 0.423\n",
      "epoch:17 | 0.116 - 0.425\n",
      "epoch:18 | 0.116 - 0.42\n",
      "epoch:19 | 0.116 - 0.42\n"
     ]
    },
    {
     "data": {
      "image/png": "[encoded data removed]",
      "text/plain": [
       "<Figure size 432x288 with 16 Axes>"
      ]
     },
     "metadata": {},
     "output_type": "display_data"
    }
   ],
   "source": [
    "# coding: utf-8\n",
    "import sys, os\n",
    "sys.path.append(os.pardir)  # 親ディレクトリのファイルをインポートするための設定\n",
    "import numpy as np\n",
    "import matplotlib.pyplot as plt\n",
    "from dataset.mnist import load_mnist\n",
    "from common.multi_layer_net_extend import MultiLayerNetExtend\n",
    "from common.optimizer import SGD, Adam\n",
    "\n",
    "(x_train, t_train), (x_test, t_test) = load_mnist(normalize=True)\n",
    "\n",
    "# 学習データを削減\n",
    "x_train = x_train[:1000]\n",
    "t_train = t_train[:1000]\n",
    "\n",
    "max_epochs = 20\n",
    "train_size = x_train.shape[0]\n",
    "batch_size = 100\n",
    "learning_rate = 0.01\n",
    "\n",
    "\n",
    "def __train(weight_init_std):\n",
    "    bn_network = MultiLayerNetExtend(input_size=784, hidden_size_list=[100, 100, 100, 100, 100], output_size=10, \n",
    "                                    weight_init_std=weight_init_std, use_batchnorm=True)\n",
    "    network = MultiLayerNetExtend(input_size=784, hidden_size_list=[100, 100, 100, 100, 100], output_size=10,\n",
    "                                weight_init_std=weight_init_std)\n",
    "    optimizer = SGD(lr=learning_rate)\n",
    "    \n",
    "    train_acc_list = []\n",
    "    bn_train_acc_list = []\n",
    "    \n",
    "    iter_per_epoch = max(train_size / batch_size, 1)\n",
    "    epoch_cnt = 0\n",
    "    \n",
    "    for i in range(1000000000):\n",
    "        batch_mask = np.random.choice(train_size, batch_size)\n",
    "        x_batch = x_train[batch_mask]\n",
    "        t_batch = t_train[batch_mask]\n",
    "    \n",
    "        for _network in (bn_network, network):\n",
    "            grads = _network.gradient(x_batch, t_batch)\n",
    "            optimizer.update(_network.params, grads)\n",
    "    \n",
    "        if i % iter_per_epoch == 0:\n",
    "            train_acc = network.accuracy(x_train, t_train)\n",
    "            bn_train_acc = bn_network.accuracy(x_train, t_train)\n",
    "            train_acc_list.append(train_acc)\n",
    "            bn_train_acc_list.append(bn_train_acc)\n",
    "    \n",
    "            print(\"epoch:\" + str(epoch_cnt) + \" | \" + str(train_acc) + \" - \" + str(bn_train_acc))\n",
    "    \n",
    "            epoch_cnt += 1\n",
    "            if epoch_cnt >= max_epochs:\n",
    "                break\n",
    "                \n",
    "    return train_acc_list, bn_train_acc_list\n"
   ]
  },
  {
   "cell_type": "code",
   "execution_count": 17,
   "metadata": {},
   "outputs": [
    {
     "name": "stdout",
     "output_type": "stream",
     "text": [
      "============== 1/16 ==============\n",
      "epoch:0 | 0.093 - 0.054\n"
     ]
    },
    {
     "name": "stderr",
     "output_type": "stream",
     "text": [
      "..\\common\\multi_layer_net_extend.py:101: RuntimeWarning: overflow encountered in square\n",
      "  weight_decay += 0.5 * self.weight_decay_lambda * np.sum(W**2)\n",
      "..\\common\\multi_layer_net_extend.py:101: RuntimeWarning: invalid value encountered in double_scalars\n",
      "  weight_decay += 0.5 * self.weight_decay_lambda * np.sum(W**2)\n",
      "C:\\Users\\katsunari.murase\\AppData\\Local\\Continuum\\anaconda3\\lib\\site-packages\\numpy\\core\\_methods.py:32: RuntimeWarning: overflow encountered in reduce\n",
      "  return umr_sum(a, axis, dtype, out, keepdims)\n",
      "..\\common\\functions.py:34: RuntimeWarning: invalid value encountered in subtract\n",
      "  x = x - np.max(x, axis=0)\n",
      "..\\common\\layers.py:12: RuntimeWarning: invalid value encountered in less_equal\n",
      "  self.mask = (x <= 0)\n"
     ]
    },
    {
     "name": "stdout",
     "output_type": "stream",
     "text": [
      "epoch:1 | 0.097 - 0.079\n",
      "epoch:2 | 0.097 - 0.122\n",
      "epoch:3 | 0.097 - 0.131\n",
      "epoch:4 | 0.097 - 0.14\n",
      "epoch:5 | 0.097 - 0.163\n",
      "epoch:6 | 0.097 - 0.183\n",
      "epoch:7 | 0.097 - 0.217\n",
      "epoch:8 | 0.097 - 0.239\n",
      "epoch:9 | 0.097 - 0.254\n",
      "epoch:10 | 0.097 - 0.277\n",
      "epoch:11 | 0.097 - 0.302\n",
      "epoch:12 | 0.097 - 0.321\n",
      "epoch:13 | 0.097 - 0.329\n",
      "epoch:14 | 0.097 - 0.355\n",
      "epoch:15 | 0.097 - 0.364\n",
      "epoch:16 | 0.097 - 0.376\n",
      "epoch:17 | 0.097 - 0.395\n",
      "epoch:18 | 0.097 - 0.403\n"
     ]
    },
    {
     "name": "stderr",
     "output_type": "stream",
     "text": [
      "No handles with labels found to put in legend.\n"
     ]
    },
    {
     "name": "stdout",
     "output_type": "stream",
     "text": [
      "epoch:19 | 0.097 - 0.414\n",
      "============== 2/16 ==============\n",
      "epoch:0 | 0.093 - 0.111\n",
      "epoch:1 | 0.097 - 0.119\n",
      "epoch:2 | 0.097 - 0.122\n",
      "epoch:3 | 0.097 - 0.116\n",
      "epoch:4 | 0.097 - 0.148\n",
      "epoch:5 | 0.097 - 0.161\n",
      "epoch:6 | 0.097 - 0.177\n",
      "epoch:7 | 0.097 - 0.189\n",
      "epoch:8 | 0.097 - 0.226\n",
      "epoch:9 | 0.097 - 0.237\n",
      "epoch:10 | 0.097 - 0.258\n",
      "epoch:11 | 0.097 - 0.28\n",
      "epoch:12 | 0.097 - 0.302\n",
      "epoch:13 | 0.097 - 0.324\n",
      "epoch:14 | 0.097 - 0.345\n",
      "epoch:15 | 0.097 - 0.365\n",
      "epoch:16 | 0.097 - 0.398\n",
      "epoch:17 | 0.097 - 0.414\n"
     ]
    },
    {
     "name": "stderr",
     "output_type": "stream",
     "text": [
      "No handles with labels found to put in legend.\n"
     ]
    },
    {
     "name": "stdout",
     "output_type": "stream",
     "text": [
      "epoch:18 | 0.097 - 0.437\n",
      "epoch:19 | 0.097 - 0.45\n",
      "============== 3/16 ==============\n",
      "epoch:0 | 0.158 - 0.089\n",
      "epoch:1 | 0.36 - 0.104\n",
      "epoch:2 | 0.509 - 0.122\n",
      "epoch:3 | 0.598 - 0.179\n",
      "epoch:4 | 0.653 - 0.244\n",
      "epoch:5 | 0.713 - 0.29\n",
      "epoch:6 | 0.745 - 0.34\n",
      "epoch:7 | 0.779 - 0.37\n",
      "epoch:8 | 0.83 - 0.423\n",
      "epoch:9 | 0.854 - 0.449\n",
      "epoch:10 | 0.884 - 0.47\n",
      "epoch:11 | 0.901 - 0.486\n",
      "epoch:12 | 0.921 - 0.52\n",
      "epoch:13 | 0.927 - 0.536\n",
      "epoch:14 | 0.937 - 0.553\n",
      "epoch:15 | 0.943 - 0.574\n",
      "epoch:16 | 0.954 - 0.596\n",
      "epoch:17 | 0.964 - 0.611\n"
     ]
    },
    {
     "name": "stderr",
     "output_type": "stream",
     "text": [
      "No handles with labels found to put in legend.\n"
     ]
    },
    {
     "name": "stdout",
     "output_type": "stream",
     "text": [
      "epoch:18 | 0.97 - 0.628\n",
      "epoch:19 | 0.977 - 0.647\n",
      "============== 4/16 ==============\n",
      "epoch:0 | 0.112 - 0.091\n",
      "epoch:1 | 0.332 - 0.115\n",
      "epoch:2 | 0.465 - 0.202\n",
      "epoch:3 | 0.548 - 0.295\n",
      "epoch:4 | 0.612 - 0.349\n",
      "epoch:5 | 0.672 - 0.412\n",
      "epoch:6 | 0.703 - 0.462\n",
      "epoch:7 | 0.74 - 0.517\n",
      "epoch:8 | 0.751 - 0.555\n",
      "epoch:9 | 0.781 - 0.591\n",
      "epoch:10 | 0.77 - 0.625\n",
      "epoch:11 | 0.795 - 0.654\n",
      "epoch:12 | 0.809 - 0.673\n",
      "epoch:13 | 0.822 - 0.698\n",
      "epoch:14 | 0.826 - 0.715\n",
      "epoch:15 | 0.85 - 0.732\n",
      "epoch:16 | 0.852 - 0.746\n",
      "epoch:17 | 0.853 - 0.756\n"
     ]
    },
    {
     "name": "stderr",
     "output_type": "stream",
     "text": [
      "No handles with labels found to put in legend.\n"
     ]
    },
    {
     "name": "stdout",
     "output_type": "stream",
     "text": [
      "epoch:18 | 0.855 - 0.773\n",
      "epoch:19 | 0.867 - 0.779\n",
      "============== 5/16 ==============\n",
      "epoch:0 | 0.104 - 0.127\n",
      "epoch:1 | 0.117 - 0.187\n",
      "epoch:2 | 0.118 - 0.346\n",
      "epoch:3 | 0.134 - 0.464\n",
      "epoch:4 | 0.139 - 0.534\n",
      "epoch:5 | 0.141 - 0.6\n",
      "epoch:6 | 0.14 - 0.646\n",
      "epoch:7 | 0.15 - 0.698\n",
      "epoch:8 | 0.164 - 0.716\n",
      "epoch:9 | 0.168 - 0.74\n",
      "epoch:10 | 0.175 - 0.766\n",
      "epoch:11 | 0.189 - 0.786\n",
      "epoch:12 | 0.195 - 0.805\n",
      "epoch:13 | 0.207 - 0.827\n",
      "epoch:14 | 0.22 - 0.839\n",
      "epoch:15 | 0.226 - 0.851\n",
      "epoch:16 | 0.242 - 0.86\n",
      "epoch:17 | 0.263 - 0.868\n",
      "epoch:18 | 0.269 - 0.877\n"
     ]
    },
    {
     "name": "stderr",
     "output_type": "stream",
     "text": [
      "No handles with labels found to put in legend.\n"
     ]
    },
    {
     "name": "stdout",
     "output_type": "stream",
     "text": [
      "epoch:19 | 0.279 - 0.888\n",
      "============== 6/16 ==============\n",
      "epoch:0 | 0.131 - 0.121\n",
      "epoch:1 | 0.119 - 0.195\n",
      "epoch:2 | 0.13 - 0.425\n",
      "epoch:3 | 0.119 - 0.592\n",
      "epoch:4 | 0.116 - 0.684\n",
      "epoch:5 | 0.116 - 0.736\n",
      "epoch:6 | 0.116 - 0.757\n",
      "epoch:7 | 0.116 - 0.783\n",
      "epoch:8 | 0.116 - 0.806\n",
      "epoch:9 | 0.116 - 0.821\n",
      "epoch:10 | 0.116 - 0.855\n",
      "epoch:11 | 0.116 - 0.862\n",
      "epoch:12 | 0.117 - 0.878\n",
      "epoch:13 | 0.118 - 0.896\n",
      "epoch:14 | 0.116 - 0.909\n",
      "epoch:15 | 0.116 - 0.921\n",
      "epoch:16 | 0.116 - 0.929\n",
      "epoch:17 | 0.118 - 0.939\n",
      "epoch:18 | 0.136 - 0.948\n",
      "epoch:19 | 0.165 - 0.955"
     ]
    },
    {
     "name": "stderr",
     "output_type": "stream",
     "text": [
      "No handles with labels found to put in legend.\n"
     ]
    },
    {
     "name": "stdout",
     "output_type": "stream",
     "text": [
      "\n",
      "============== 7/16 ==============\n",
      "epoch:0 | 0.098 - 0.116\n",
      "epoch:1 | 0.116 - 0.166\n",
      "epoch:2 | 0.117 - 0.489\n",
      "epoch:3 | 0.117 - 0.602\n",
      "epoch:4 | 0.116 - 0.672\n",
      "epoch:5 | 0.116 - 0.716\n",
      "epoch:6 | 0.117 - 0.761\n",
      "epoch:7 | 0.117 - 0.822\n",
      "epoch:8 | 0.116 - 0.857\n",
      "epoch:9 | 0.116 - 0.882\n",
      "epoch:10 | 0.116 - 0.904\n",
      "epoch:11 | 0.116 - 0.919\n",
      "epoch:12 | 0.116 - 0.933\n",
      "epoch:13 | 0.116 - 0.946\n",
      "epoch:14 | 0.116 - 0.963\n",
      "epoch:15 | 0.116 - 0.962\n",
      "epoch:16 | 0.116 - 0.971\n",
      "epoch:17 | 0.116 - 0.977\n"
     ]
    },
    {
     "name": "stderr",
     "output_type": "stream",
     "text": [
      "No handles with labels found to put in legend.\n"
     ]
    },
    {
     "name": "stdout",
     "output_type": "stream",
     "text": [
      "epoch:18 | 0.116 - 0.978\n",
      "epoch:19 | 0.116 - 0.984\n",
      "============== 8/16 ==============\n",
      "epoch:0 | 0.095 - 0.105\n",
      "epoch:1 | 0.117 - 0.376\n",
      "epoch:2 | 0.117 - 0.671\n",
      "epoch:3 | 0.117 - 0.796\n",
      "epoch:4 | 0.117 - 0.839\n",
      "epoch:5 | 0.117 - 0.866\n",
      "epoch:6 | 0.117 - 0.886\n",
      "epoch:7 | 0.117 - 0.913\n",
      "epoch:8 | 0.117 - 0.924\n",
      "epoch:9 | 0.117 - 0.951\n",
      "epoch:10 | 0.117 - 0.972\n",
      "epoch:11 | 0.117 - 0.98\n",
      "epoch:12 | 0.117 - 0.987\n",
      "epoch:13 | 0.117 - 0.99\n",
      "epoch:14 | 0.117 - 0.993\n",
      "epoch:15 | 0.117 - 0.997\n",
      "epoch:16 | 0.117 - 0.996\n",
      "epoch:17 | 0.117 - 0.998\n",
      "epoch:18 | 0.117 - 0.998\n",
      "epoch:19 | 0.117 - 0.998\n"
     ]
    },
    {
     "name": "stderr",
     "output_type": "stream",
     "text": [
      "No handles with labels found to put in legend.\n"
     ]
    },
    {
     "name": "stdout",
     "output_type": "stream",
     "text": [
      "============== 9/16 ==============\n",
      "epoch:0 | 0.094 - 0.179\n",
      "epoch:1 | 0.117 - 0.502\n",
      "epoch:2 | 0.117 - 0.724\n",
      "epoch:3 | 0.117 - 0.833\n",
      "epoch:4 | 0.117 - 0.922\n",
      "epoch:5 | 0.116 - 0.949\n",
      "epoch:6 | 0.117 - 0.97\n",
      "epoch:7 | 0.117 - 0.976\n",
      "epoch:8 | 0.117 - 0.987\n",
      "epoch:9 | 0.117 - 0.99\n",
      "epoch:10 | 0.117 - 0.992\n",
      "epoch:11 | 0.117 - 0.993\n",
      "epoch:12 | 0.117 - 0.996\n",
      "epoch:13 | 0.117 - 0.996\n",
      "epoch:14 | 0.117 - 0.997\n",
      "epoch:15 | 0.117 - 0.997\n",
      "epoch:16 | 0.117 - 0.997\n",
      "epoch:17 | 0.117 - 0.997\n",
      "epoch:18 | 0.117 - 0.998\n",
      "epoch:19 | 0.117 - 0.999\n"
     ]
    },
    {
     "name": "stderr",
     "output_type": "stream",
     "text": [
      "No handles with labels found to put in legend.\n"
     ]
    },
    {
     "name": "stdout",
     "output_type": "stream",
     "text": [
      "============== 10/16 ==============\n",
      "epoch:0 | 0.117 - 0.158\n",
      "epoch:1 | 0.117 - 0.585\n",
      "epoch:2 | 0.117 - 0.727\n",
      "epoch:3 | 0.117 - 0.759\n",
      "epoch:4 | 0.117 - 0.84\n",
      "epoch:5 | 0.117 - 0.937\n",
      "epoch:6 | 0.117 - 0.94\n",
      "epoch:7 | 0.117 - 0.962\n",
      "epoch:8 | 0.117 - 0.984\n",
      "epoch:9 | 0.117 - 0.987\n",
      "epoch:10 | 0.117 - 0.984\n",
      "epoch:11 | 0.117 - 0.993\n",
      "epoch:12 | 0.117 - 0.995\n",
      "epoch:13 | 0.117 - 0.993\n",
      "epoch:14 | 0.117 - 0.997\n",
      "epoch:15 | 0.117 - 0.998\n",
      "epoch:16 | 0.117 - 0.998\n",
      "epoch:17 | 0.117 - 0.998\n",
      "epoch:18 | 0.117 - 0.998\n"
     ]
    },
    {
     "name": "stderr",
     "output_type": "stream",
     "text": [
      "No handles with labels found to put in legend.\n"
     ]
    },
    {
     "name": "stdout",
     "output_type": "stream",
     "text": [
      "epoch:19 | 0.117 - 0.998\n",
      "============== 11/16 ==============\n",
      "epoch:0 | 0.117 - 0.195\n",
      "epoch:1 | 0.117 - 0.425\n",
      "epoch:2 | 0.117 - 0.645\n",
      "epoch:3 | 0.117 - 0.773\n",
      "epoch:4 | 0.117 - 0.809\n",
      "epoch:5 | 0.116 - 0.85\n",
      "epoch:6 | 0.117 - 0.942\n",
      "epoch:7 | 0.117 - 0.951\n",
      "epoch:8 | 0.117 - 0.96\n",
      "epoch:9 | 0.117 - 0.96\n",
      "epoch:10 | 0.117 - 0.959\n",
      "epoch:11 | 0.117 - 0.938\n",
      "epoch:12 | 0.117 - 0.979\n",
      "epoch:13 | 0.117 - 0.987\n",
      "epoch:14 | 0.117 - 0.988\n",
      "epoch:15 | 0.117 - 0.991\n",
      "epoch:16 | 0.117 - 0.989\n",
      "epoch:17 | 0.117 - 0.937\n",
      "epoch:18 | 0.117 - 0.989\n"
     ]
    },
    {
     "name": "stderr",
     "output_type": "stream",
     "text": [
      "No handles with labels found to put in legend.\n"
     ]
    },
    {
     "name": "stdout",
     "output_type": "stream",
     "text": [
      "epoch:19 | 0.117 - 0.993\n",
      "============== 12/16 ==============\n",
      "epoch:0 | 0.097 - 0.118\n",
      "epoch:1 | 0.116 - 0.638\n",
      "epoch:2 | 0.116 - 0.511\n",
      "epoch:3 | 0.116 - 0.677\n",
      "epoch:4 | 0.116 - 0.713\n",
      "epoch:5 | 0.116 - 0.75\n",
      "epoch:6 | 0.116 - 0.777\n",
      "epoch:7 | 0.116 - 0.746\n",
      "epoch:8 | 0.116 - 0.757\n",
      "epoch:9 | 0.116 - 0.789\n",
      "epoch:10 | 0.116 - 0.776\n",
      "epoch:11 | 0.116 - 0.8\n",
      "epoch:12 | 0.116 - 0.798\n",
      "epoch:13 | 0.117 - 0.748\n",
      "epoch:14 | 0.117 - 0.804\n",
      "epoch:15 | 0.117 - 0.758\n",
      "epoch:16 | 0.117 - 0.807\n",
      "epoch:17 | 0.117 - 0.804\n"
     ]
    },
    {
     "name": "stderr",
     "output_type": "stream",
     "text": [
      "No handles with labels found to put in legend.\n"
     ]
    },
    {
     "name": "stdout",
     "output_type": "stream",
     "text": [
      "epoch:18 | 0.117 - 0.809\n",
      "epoch:19 | 0.117 - 0.812\n",
      "============== 13/16 ==============\n",
      "epoch:0 | 0.117 - 0.093\n",
      "epoch:1 | 0.116 - 0.356\n",
      "epoch:2 | 0.116 - 0.586\n",
      "epoch:3 | 0.116 - 0.55\n",
      "epoch:4 | 0.117 - 0.645\n",
      "epoch:5 | 0.117 - 0.699\n",
      "epoch:6 | 0.116 - 0.73\n",
      "epoch:7 | 0.116 - 0.734\n",
      "epoch:8 | 0.117 - 0.781\n",
      "epoch:9 | 0.117 - 0.785\n",
      "epoch:10 | 0.117 - 0.781\n",
      "epoch:11 | 0.117 - 0.719\n",
      "epoch:12 | 0.117 - 0.792\n",
      "epoch:13 | 0.117 - 0.797\n",
      "epoch:14 | 0.117 - 0.799\n",
      "epoch:15 | 0.117 - 0.8\n",
      "epoch:16 | 0.117 - 0.799\n",
      "epoch:17 | 0.117 - 0.801\n",
      "epoch:18 | 0.117 - 0.801\n"
     ]
    },
    {
     "name": "stderr",
     "output_type": "stream",
     "text": [
      "No handles with labels found to put in legend.\n"
     ]
    },
    {
     "name": "stdout",
     "output_type": "stream",
     "text": [
      "epoch:19 | 0.117 - 0.8\n",
      "============== 14/16 ==============\n",
      "epoch:0 | 0.116 - 0.213\n",
      "epoch:1 | 0.116 - 0.406\n",
      "epoch:2 | 0.116 - 0.447\n",
      "epoch:3 | 0.116 - 0.464\n",
      "epoch:4 | 0.116 - 0.505\n",
      "epoch:5 | 0.116 - 0.512\n",
      "epoch:6 | 0.116 - 0.495\n",
      "epoch:7 | 0.116 - 0.511\n",
      "epoch:8 | 0.116 - 0.513\n",
      "epoch:9 | 0.116 - 0.524\n",
      "epoch:10 | 0.116 - 0.518\n",
      "epoch:11 | 0.116 - 0.52\n",
      "epoch:12 | 0.116 - 0.509\n",
      "epoch:13 | 0.116 - 0.523\n",
      "epoch:14 | 0.116 - 0.545\n",
      "epoch:15 | 0.116 - 0.526\n",
      "epoch:16 | 0.116 - 0.525\n",
      "epoch:17 | 0.116 - 0.545\n",
      "epoch:18 | 0.116 - 0.501\n"
     ]
    },
    {
     "name": "stderr",
     "output_type": "stream",
     "text": [
      "No handles with labels found to put in legend.\n"
     ]
    },
    {
     "name": "stdout",
     "output_type": "stream",
     "text": [
      "epoch:19 | 0.116 - 0.516\n",
      "============== 15/16 ==============\n",
      "epoch:0 | 0.105 - 0.099\n",
      "epoch:1 | 0.116 - 0.299\n",
      "epoch:2 | 0.117 - 0.365\n",
      "epoch:3 | 0.117 - 0.388\n",
      "epoch:4 | 0.116 - 0.382\n",
      "epoch:5 | 0.116 - 0.407\n",
      "epoch:6 | 0.117 - 0.409\n",
      "epoch:7 | 0.117 - 0.408\n",
      "epoch:8 | 0.117 - 0.414\n",
      "epoch:9 | 0.117 - 0.413\n",
      "epoch:10 | 0.117 - 0.415\n",
      "epoch:11 | 0.117 - 0.416\n",
      "epoch:12 | 0.117 - 0.416\n",
      "epoch:13 | 0.117 - 0.417\n",
      "epoch:14 | 0.117 - 0.417\n",
      "epoch:15 | 0.117 - 0.417\n",
      "epoch:16 | 0.117 - 0.417\n",
      "epoch:17 | 0.116 - 0.417\n",
      "epoch:18 | 0.116 - 0.417\n"
     ]
    },
    {
     "name": "stderr",
     "output_type": "stream",
     "text": [
      "No handles with labels found to put in legend.\n"
     ]
    },
    {
     "name": "stdout",
     "output_type": "stream",
     "text": [
      "epoch:19 | 0.117 - 0.521\n",
      "============== 16/16 ==============\n",
      "epoch:0 | 0.093 - 0.129\n",
      "epoch:1 | 0.105 - 0.354\n",
      "epoch:2 | 0.105 - 0.308\n",
      "epoch:3 | 0.116 - 0.421\n",
      "epoch:4 | 0.116 - 0.503\n",
      "epoch:5 | 0.116 - 0.508\n",
      "epoch:6 | 0.116 - 0.503\n",
      "epoch:7 | 0.116 - 0.51\n",
      "epoch:8 | 0.116 - 0.487\n",
      "epoch:9 | 0.116 - 0.461\n",
      "epoch:10 | 0.116 - 0.507\n",
      "epoch:11 | 0.117 - 0.518\n",
      "epoch:12 | 0.117 - 0.516\n",
      "epoch:13 | 0.117 - 0.523\n",
      "epoch:14 | 0.117 - 0.508\n",
      "epoch:15 | 0.117 - 0.53\n",
      "epoch:16 | 0.117 - 0.531\n",
      "epoch:17 | 0.117 - 0.526\n",
      "epoch:18 | 0.117 - 0.514\n",
      "epoch:19 | 0.116 - 0.531\n"
     ]
    },
    {
     "data": {
      "image/png": "[encoded data removed]",
      "text/plain": [
       "<Figure size 432x288 with 16 Axes>"
      ]
     },
     "metadata": {},
     "output_type": "display_data"
    }
   ],
   "source": [
    "# 3.グラフの描画==========\n",
    "weight_scale_list = np.logspace(0, -4, num=16)\n",
    "x = np.arange(max_epochs)\n",
    "\n",
    "for i, w in enumerate(weight_scale_list):\n",
    "    print( \"============== \" + str(i+1) + \"/16\" + \" ==============\")\n",
    "    train_acc_list, bn_train_acc_list = __train(w)\n",
    "    \n",
    "    plt.subplot(4,4,i+1)\n",
    "    plt.title(\"W:\" + str(w))\n",
    "    if i == 15:\n",
    "        plt.plot(x, bn_train_acc_list, label='Batch Normalization', markevery=2)\n",
    "        plt.plot(x, train_acc_list, linestyle = \"--\", label='Normal(without BatchNorm)', markevery=2)\n",
    "    else:\n",
    "        plt.plot(x, bn_train_acc_list, markevery=2)\n",
    "        plt.plot(x, train_acc_list, linestyle=\"--\", markevery=2)\n",
    "\n",
    "    plt.ylim(0, 1.0)\n",
    "    if i % 4:\n",
    "        plt.yticks([])\n",
    "    else:\n",
    "        plt.ylabel(\"accuracy\")\n",
    "    if i < 12:\n",
    "        plt.xticks([])\n",
    "    else:\n",
    "        plt.xlabel(\"epochs\")\n",
    "    plt.legend(loc='lower right')\n",
    "    \n",
    "plt.show()"
   ]
  },
  {
   "cell_type": "code",
   "execution_count": null,
   "metadata": {},
   "outputs": [
    {
     "name": "stdout",
     "output_type": "stream",
     "text": [
      "epoch:0, train acc:0.09, test acc:0.0981\n",
      "epoch:1, train acc:0.09333333333333334, test acc:0.102\n",
      "epoch:2, train acc:0.11, test acc:0.1068\n",
      "epoch:3, train acc:0.12666666666666668, test acc:0.1151\n",
      "epoch:4, train acc:0.16333333333333333, test acc:0.1264\n",
      "epoch:5, train acc:0.17, test acc:0.1316\n",
      "epoch:6, train acc:0.19666666666666666, test acc:0.1438\n",
      "epoch:7, train acc:0.21, test acc:0.1534\n",
      "epoch:8, train acc:0.23, test acc:0.1621\n",
      "epoch:9, train acc:0.24, test acc:0.164\n",
      "epoch:10, train acc:0.25666666666666665, test acc:0.1679\n",
      "epoch:11, train acc:0.27, test acc:0.1703\n",
      "epoch:12, train acc:0.29, test acc:0.179\n",
      "epoch:13, train acc:0.2866666666666667, test acc:0.1784\n",
      "epoch:14, train acc:0.2833333333333333, test acc:0.1811\n",
      "epoch:15, train acc:0.2966666666666667, test acc:0.1883\n",
      "epoch:16, train acc:0.31666666666666665, test acc:0.1991\n",
      "epoch:17, train acc:0.3233333333333333, test acc:0.2101\n",
      "epoch:18, train acc:0.3233333333333333, test acc:0.2139\n",
      "epoch:19, train acc:0.35333333333333333, test acc:0.2291\n",
      "epoch:20, train acc:0.3566666666666667, test acc:0.2416\n",
      "epoch:21, train acc:0.38, test acc:0.2587\n",
      "epoch:22, train acc:0.3933333333333333, test acc:0.2568\n",
      "epoch:23, train acc:0.4166666666666667, test acc:0.2772\n",
      "epoch:24, train acc:0.43, test acc:0.287\n",
      "epoch:25, train acc:0.4033333333333333, test acc:0.2692\n",
      "epoch:26, train acc:0.43, test acc:0.2723\n",
      "epoch:27, train acc:0.44333333333333336, test acc:0.2888\n",
      "epoch:28, train acc:0.4533333333333333, test acc:0.3019\n",
      "epoch:29, train acc:0.47333333333333333, test acc:0.3171\n",
      "epoch:30, train acc:0.46, test acc:0.3165\n",
      "epoch:31, train acc:0.49666666666666665, test acc:0.3313\n",
      "epoch:32, train acc:0.4866666666666667, test acc:0.3369\n",
      "epoch:33, train acc:0.49, test acc:0.335\n",
      "epoch:34, train acc:0.51, test acc:0.3561\n",
      "epoch:35, train acc:0.5166666666666667, test acc:0.3661\n",
      "epoch:36, train acc:0.5266666666666666, test acc:0.3697\n",
      "epoch:37, train acc:0.5266666666666666, test acc:0.363\n",
      "epoch:38, train acc:0.5233333333333333, test acc:0.3749\n",
      "epoch:39, train acc:0.5233333333333333, test acc:0.3768\n",
      "epoch:40, train acc:0.5566666666666666, test acc:0.4092\n",
      "epoch:41, train acc:0.57, test acc:0.4147\n",
      "epoch:42, train acc:0.58, test acc:0.4163\n"
     ]
    }
   ],
   "source": [
    "# coding: utf-8\n",
    "import os\n",
    "import sys\n",
    "\n",
    "sys.path.append(os.pardir)  # 親ディレクトリのファイルをインポートするための設定\n",
    "import numpy as np\n",
    "import matplotlib.pyplot as plt\n",
    "from dataset.mnist import load_mnist\n",
    "from common.multi_layer_net import MultiLayerNet\n",
    "from common.optimizer import SGD\n",
    "\n",
    "(x_train, t_train), (x_test, t_test) = load_mnist(normalize=True)\n",
    "\n",
    "# 過学習を再現するために、学習データを削減\n",
    "x_train = x_train[:300]\n",
    "t_train = t_train[:300]\n",
    "\n",
    "# weight decay（荷重減衰）の設定 =======================\n",
    "#weight_decay_lambda = 0 # weight decayを使用しない場合\n",
    "weight_decay_lambda = 0.1\n",
    "# ====================================================\n",
    "\n",
    "network = MultiLayerNet(input_size=784, hidden_size_list=[100, 100, 100, 100, 100, 100], output_size=10,\n",
    "                        weight_decay_lambda=weight_decay_lambda)\n",
    "optimizer = SGD(lr=0.01)\n",
    "\n",
    "max_epochs = 201\n",
    "train_size = x_train.shape[0]\n",
    "batch_size = 100\n",
    "\n",
    "train_loss_list = []\n",
    "train_acc_list = []\n",
    "test_acc_list = []\n",
    "\n",
    "iter_per_epoch = max(train_size / batch_size, 1)\n",
    "epoch_cnt = 0\n",
    "\n",
    "for i in range(1000000000):\n",
    "    batch_mask = np.random.choice(train_size, batch_size)\n",
    "    x_batch = x_train[batch_mask]\n",
    "    t_batch = t_train[batch_mask]\n",
    "\n",
    "    grads = network.gradient(x_batch, t_batch)\n",
    "    optimizer.update(network.params, grads)\n",
    "\n",
    "    if i % iter_per_epoch == 0:\n",
    "        train_acc = network.accuracy(x_train, t_train)\n",
    "        test_acc = network.accuracy(x_test, t_test)\n",
    "        train_acc_list.append(train_acc)\n",
    "        test_acc_list.append(test_acc)\n",
    "\n",
    "        print(\"epoch:\" + str(epoch_cnt) + \", train acc:\" + str(train_acc) + \", test acc:\" + str(test_acc))\n",
    "\n",
    "        epoch_cnt += 1\n",
    "        if epoch_cnt >= max_epochs:\n",
    "            break"
   ]
  },
  {
   "cell_type": "code",
   "execution_count": null,
   "metadata": {},
   "outputs": [],
   "source": [
    "# 3.グラフの描画==========\n",
    "markers = {'train': 'o', 'test': 's'}\n",
    "x = np.arange(max_epochs)\n",
    "plt.plot(x, train_acc_list, marker='o', label='train', markevery=10)\n",
    "plt.plot(x, test_acc_list, marker='s', label='test', markevery=10)\n",
    "plt.xlabel(\"epochs\")\n",
    "plt.ylabel(\"accuracy\")\n",
    "plt.ylim(0, 1.0)\n",
    "plt.legend(loc='lower right')\n",
    "plt.show()"
   ]
  }
 ],
 "metadata": {
  "kernelspec": {
   "display_name": "Python 3",
   "language": "python",
   "name": "python3"
  },
  "language_info": {
   "codemirror_mode": {
    "name": "ipython",
    "version": 3
   },
   "file_extension": ".py",
   "mimetype": "text/x-python",
   "name": "python",
   "nbconvert_exporter": "python",
   "pygments_lexer": "ipython3",
   "version": "3.6.5"
  }
 },
 "nbformat": 4,
 "nbformat_minor": 2
}
